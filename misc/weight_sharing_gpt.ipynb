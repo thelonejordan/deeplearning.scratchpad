{
 "cells": [
  {
   "cell_type": "code",
   "execution_count": 1,
   "metadata": {},
   "outputs": [],
   "source": [
    "import torch\n",
    "import torch.nn as nn\n",
    "import torch.nn.functional as F"
   ]
  },
  {
   "cell_type": "code",
   "execution_count": 2,
   "metadata": {},
   "outputs": [
    {
     "data": {
      "text/plain": [
       "tensor([[ 0.,  1.,  2.,  3.],\n",
       "        [ 0.,  2.,  4.,  6.],\n",
       "        [ 0.,  4.,  8., 12.],\n",
       "        [ 0.,  8., 16., 24.]])"
      ]
     },
     "execution_count": 2,
     "metadata": {},
     "output_type": "execute_result"
    }
   ],
   "source": [
    "a = torch.ones(4, 4)\n",
    "for i in range(4):\n",
    "    a[i, :] =  torch.arange(4).view(1, 4) * 2 ** i\n",
    "a"
   ]
  },
  {
   "cell_type": "code",
   "execution_count": 3,
   "metadata": {},
   "outputs": [
    {
     "data": {
      "text/plain": [
       "tensor([1.0000, 1.0000, 1.0000, 1.0000])"
      ]
     },
     "execution_count": 3,
     "metadata": {},
     "output_type": "execute_result"
    }
   ],
   "source": [
    "b = F.softmax(a, dim=-1)\n",
    "b.sum(-1)"
   ]
  },
  {
   "cell_type": "code",
   "execution_count": 4,
   "metadata": {},
   "outputs": [],
   "source": [
    "class Net(nn.Module):\n",
    "    def __init__(self, dims, vocab):\n",
    "        super().__init__()\n",
    "        self.embedding = nn.Embedding(vocab, dims)\n",
    "        self.l1 = nn.Linear(dims, dims * 4)\n",
    "        self.relu = nn.GELU()\n",
    "        self.l2 = nn.Linear(dims * 4, dims)\n",
    "        self.lm_head = nn.Linear(dims, vocab, bias=False)\n",
    "\n",
    "        self.embedding.weight = self.lm_head.weight\n",
    "\n",
    "    def forward(self, idx):\n",
    "        x = self.embedding(idx)\n",
    "        x = self.relu(self.l1(x))\n",
    "        x = self.l2(x)\n",
    "        x = self.lm_head(x)\n",
    "        return x"
   ]
  },
  {
   "cell_type": "code",
   "execution_count": 5,
   "metadata": {},
   "outputs": [
    {
     "name": "stdout",
     "output_type": "stream",
     "text": [
      "torch.Size([5]) torch.Size([5])\n"
     ]
    }
   ],
   "source": [
    "net = Net(16, 50)\n",
    "idx = torch.arange(5, dtype=torch.long)\n",
    "y = torch.randint(0, 50, size=(5, ))\n",
    "print(idx.shape, y.shape)\n",
    "optim = torch.optim.AdamW(net.parameters())"
   ]
  },
  {
   "cell_type": "code",
   "execution_count": 6,
   "metadata": {},
   "outputs": [],
   "source": [
    "loss = F.cross_entropy(net(y), y)\n",
    "loss.backward()"
   ]
  },
  {
   "cell_type": "code",
   "execution_count": 7,
   "metadata": {},
   "outputs": [
    {
     "data": {
      "text/plain": [
       "True"
      ]
     },
     "execution_count": 7,
     "metadata": {},
     "output_type": "execute_result"
    }
   ],
   "source": [
    "net.embedding.weight.grad is net.lm_head.weight.grad"
   ]
  },
  {
   "cell_type": "code",
   "execution_count": 8,
   "metadata": {},
   "outputs": [
    {
     "data": {
      "text/plain": [
       "True"
      ]
     },
     "execution_count": 8,
     "metadata": {},
     "output_type": "execute_result"
    }
   ],
   "source": [
    "net.embedding.weight.grad is net.lm_head.weight.grad"
   ]
  },
  {
   "cell_type": "code",
   "execution_count": 9,
   "metadata": {},
   "outputs": [
    {
     "data": {
      "text/plain": [
       "True"
      ]
     },
     "execution_count": 9,
     "metadata": {},
     "output_type": "execute_result"
    }
   ],
   "source": [
    "torch.allclose(net.embedding.weight.grad, net.lm_head.weight.grad)"
   ]
  }
 ],
 "metadata": {
  "kernelspec": {
   "display_name": ".venv",
   "language": "python",
   "name": "python3"
  },
  "language_info": {
   "codemirror_mode": {
    "name": "ipython",
    "version": 3
   },
   "file_extension": ".py",
   "mimetype": "text/x-python",
   "name": "python",
   "nbconvert_exporter": "python",
   "pygments_lexer": "ipython3",
   "version": "3.11.9"
  }
 },
 "nbformat": 4,
 "nbformat_minor": 2
}
