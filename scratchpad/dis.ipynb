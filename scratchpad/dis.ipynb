{
 "cells": [
  {
   "cell_type": "code",
   "execution_count": 1,
   "id": "c31df422-413b-4745-af14-f41cc6b767ca",
   "metadata": {},
   "outputs": [],
   "source": [
    "import os\n",
    "import sys\n",
    "import numpy as np\n",
    "import inspect\n",
    "\n",
    "from transformers import AutoTokenizer, LlamaForCausalLM, GenerationConfig\n",
    "import torch\n",
    "import torch.nn.functional as F"
   ]
  },
  {
   "cell_type": "code",
   "execution_count": 2,
   "id": "9c9ae54a-a200-4816-afa7-ec9ac96c9a2b",
   "metadata": {},
   "outputs": [],
   "source": [
    "sys.path.append(\"..\")"
   ]
  },
  {
   "cell_type": "code",
   "execution_count": 3,
   "id": "417d6146-f07d-44c3-8723-5ee8d5029243",
   "metadata": {},
   "outputs": [],
   "source": [
    "prompts = [\"The theory of relativity states that the speed of light is constant in all reference frames\"]"
   ]
  },
  {
   "cell_type": "code",
   "execution_count": 4,
   "id": "083ea1ed-4591-4d5d-b082-f8e207ba1521",
   "metadata": {},
   "outputs": [],
   "source": [
    "model_id = \"meta-llama/Llama-3.2-3B\"\n",
    "device = \"mps\""
   ]
  },
  {
   "cell_type": "code",
   "execution_count": 5,
   "id": "48526383-86d8-4191-a93b-e440da80677c",
   "metadata": {},
   "outputs": [
    {
     "data": {
      "text/plain": [
       "0"
      ]
     },
     "execution_count": 5,
     "metadata": {},
     "output_type": "execute_result"
    }
   ],
   "source": [
    "os.environ[\"TOKENIZERS_PARALLELISM\"] = \"true\"\n",
    "tokenizer = AutoTokenizer.from_pretrained(model_id)\n",
    "tokenizer.add_special_tokens({'pad_token': tokenizer.eos_token})"
   ]
  },
  {
   "cell_type": "code",
   "execution_count": 6,
   "id": "c9f49026-4e19-473b-8c8a-412dd3156b8d",
   "metadata": {},
   "outputs": [
    {
     "data": {
      "application/vnd.jupyter.widget-view+json": {
       "model_id": "13adcd4283074cd2bac71e88b20bd65c",
       "version_major": 2,
       "version_minor": 0
      },
      "text/plain": [
       "Loading checkpoint shards:   0%|          | 0/2 [00:00<?, ?it/s]"
      ]
     },
     "metadata": {},
     "output_type": "display_data"
    }
   ],
   "source": [
    "model = LlamaForCausalLM.from_pretrained(model_id).to(device)"
   ]
  },
  {
   "cell_type": "code",
   "execution_count": 7,
   "id": "eff43609-7444-4e06-a581-e9b51d5c772d",
   "metadata": {},
   "outputs": [],
   "source": [
    "model.generation_config.pad_token_id = model.config.eos_token_id"
   ]
  },
  {
   "cell_type": "code",
   "execution_count": 8,
   "id": "16b08752-dfe0-4423-b535-3a5dd6cfdb5a",
   "metadata": {},
   "outputs": [
    {
     "name": "stdout",
     "output_type": "stream",
     "text": [
      "[[128000, 791, 10334, 315, 1375, 44515, 5415, 430, 279, 4732, 315, 3177, 374, 6926, 304, 682, 5905, 14418]]\n"
     ]
    }
   ],
   "source": [
    "inputs = tokenizer(prompts, return_tensors=\"pt\")\n",
    "print(inputs[\"input_ids\"].numpy().tolist())\n",
    "inputs = {k:v.to(device) for k,v in inputs.items()}"
   ]
  },
  {
   "cell_type": "code",
   "execution_count": 9,
   "id": "b85fdf1b-1f2a-452f-af26-5e1a3832e58d",
   "metadata": {},
   "outputs": [],
   "source": [
    "generation_kwargs = dict(max_length=19, do_sample=False, temperature=None, top_p=None)"
   ]
  },
  {
   "cell_type": "code",
   "execution_count": 10,
   "id": "707a0f0c-2d42-4fcf-bb96-48383c378c9c",
   "metadata": {},
   "outputs": [
    {
     "name": "stdout",
     "output_type": "stream",
     "text": [
      "[[128000, 791, 10334, 315, 1375, 44515, 5415, 430, 279, 4732, 315, 3177, 374, 6926, 304, 682, 5905, 14418, 13]]\n"
     ]
    }
   ],
   "source": [
    "outputs = model.generate(**inputs, **generation_kwargs)\n",
    "print(outputs.cpu().numpy().tolist())"
   ]
  },
  {
   "cell_type": "markdown",
   "id": "93b1a1fd-d3d8-41c0-8e7b-e19c84b3e40c",
   "metadata": {},
   "source": [
    "### Reproduction"
   ]
  },
  {
   "cell_type": "code",
   "execution_count": null,
   "id": "29db56bd-8d90-4a1d-a53d-6fb3781449f3",
   "metadata": {},
   "outputs": [],
   "source": [
    "inspect.signature(model.generate).parameters"
   ]
  },
  {
   "cell_type": "code",
   "execution_count": null,
   "id": "058caa70-66f5-48d2-a2ff-589df5ad475b",
   "metadata": {},
   "outputs": [],
   "source": [
    "print(model.generate.__doc__)"
   ]
  },
  {
   "cell_type": "code",
   "execution_count": 19,
   "id": "cca41e5d-b690-492e-ad73-48bccf69700d",
   "metadata": {},
   "outputs": [
    {
     "data": {
      "text/plain": [
       "LlamaConfig {\n",
       "  \"_attn_implementation_autoset\": true,\n",
       "  \"_name_or_path\": \"meta-llama/Llama-3.2-3B\",\n",
       "  \"architectures\": [\n",
       "    \"LlamaForCausalLM\"\n",
       "  ],\n",
       "  \"attention_bias\": false,\n",
       "  \"attention_dropout\": 0.0,\n",
       "  \"bos_token_id\": 128000,\n",
       "  \"eos_token_id\": 128001,\n",
       "  \"head_dim\": 128,\n",
       "  \"hidden_act\": \"silu\",\n",
       "  \"hidden_size\": 3072,\n",
       "  \"initializer_range\": 0.02,\n",
       "  \"intermediate_size\": 8192,\n",
       "  \"max_position_embeddings\": 131072,\n",
       "  \"mlp_bias\": false,\n",
       "  \"model_type\": \"llama\",\n",
       "  \"num_attention_heads\": 24,\n",
       "  \"num_hidden_layers\": 28,\n",
       "  \"num_key_value_heads\": 8,\n",
       "  \"pretraining_tp\": 1,\n",
       "  \"rms_norm_eps\": 1e-05,\n",
       "  \"rope_scaling\": {\n",
       "    \"factor\": 32.0,\n",
       "    \"high_freq_factor\": 4.0,\n",
       "    \"low_freq_factor\": 1.0,\n",
       "    \"original_max_position_embeddings\": 8192,\n",
       "    \"rope_type\": \"llama3\"\n",
       "  },\n",
       "  \"rope_theta\": 500000.0,\n",
       "  \"tie_word_embeddings\": true,\n",
       "  \"torch_dtype\": \"bfloat16\",\n",
       "  \"transformers_version\": \"4.47.1\",\n",
       "  \"use_cache\": true,\n",
       "  \"vocab_size\": 128256\n",
       "}"
      ]
     },
     "execution_count": 19,
     "metadata": {},
     "output_type": "execute_result"
    }
   ],
   "source": [
    "model.config"
   ]
  },
  {
   "cell_type": "code",
   "execution_count": 20,
   "id": "43391bac-a931-4735-be2f-992bc79c392c",
   "metadata": {},
   "outputs": [
    {
     "data": {
      "text/plain": [
       "True"
      ]
     },
     "execution_count": 20,
     "metadata": {},
     "output_type": "execute_result"
    }
   ],
   "source": [
    "model.generation_config._from_model_config"
   ]
  },
  {
   "cell_type": "code",
   "execution_count": 26,
   "id": "bb51c78b-a4df-45a2-adca-d265cf7488cd",
   "metadata": {},
   "outputs": [
    {
     "data": {
      "text/plain": [
       "GenerationConfig {\n",
       "  \"bos_token_id\": 128000,\n",
       "  \"do_sample\": true,\n",
       "  \"eos_token_id\": 128001,\n",
       "  \"temperature\": 0.6,\n",
       "  \"top_p\": 0.9\n",
       "}"
      ]
     },
     "execution_count": 26,
     "metadata": {},
     "output_type": "execute_result"
    }
   ],
   "source": [
    "model.generation_config"
   ]
  },
  {
   "cell_type": "code",
   "execution_count": 32,
   "id": "0e50a516-9596-420e-becc-7e1d22cc2cc0",
   "metadata": {},
   "outputs": [
    {
     "data": {
      "text/plain": [
       "GenerationConfig {\n",
       "  \"bos_token_id\": 128000,\n",
       "  \"eos_token_id\": 128001\n",
       "}"
      ]
     },
     "execution_count": 32,
     "metadata": {},
     "output_type": "execute_result"
    }
   ],
   "source": [
    "new_generation_config = GenerationConfig.from_model_config(model.config)\n",
    "new_generation_config"
   ]
  },
  {
   "cell_type": "code",
   "execution_count": 33,
   "id": "bd738a5e-fbc0-4101-9ed4-5bc192446a67",
   "metadata": {},
   "outputs": [
    {
     "data": {
      "text/plain": [
       "False"
      ]
     },
     "execution_count": 33,
     "metadata": {},
     "output_type": "execute_result"
    }
   ],
   "source": [
    "new_generation_config == model.generation_config"
   ]
  },
  {
   "cell_type": "code",
   "execution_count": 30,
   "id": "2e26c8c4-5af6-4a90-b1ad-94c283c7719a",
   "metadata": {},
   "outputs": [
    {
     "data": {
      "text/plain": [
       "{}"
      ]
     },
     "execution_count": 30,
     "metadata": {},
     "output_type": "execute_result"
    }
   ],
   "source": [
    "model.config._get_non_default_generation_parameters()"
   ]
  },
  {
   "cell_type": "code",
   "execution_count": 40,
   "id": "9132eaf2-61a6-4106-9ec7-cc5e37e8c752",
   "metadata": {},
   "outputs": [
    {
     "data": {
      "text/plain": [
       "GenerationConfig {\n",
       "  \"bos_token_id\": 128000,\n",
       "  \"eos_token_id\": 128001,\n",
       "  \"max_length\": 19,\n",
       "  \"pad_token_id\": 128001,\n",
       "  \"temperature\": null,\n",
       "  \"top_p\": null\n",
       "}"
      ]
     },
     "execution_count": 40,
     "metadata": {},
     "output_type": "execute_result"
    }
   ],
   "source": [
    "generation_config, model_kwargs = model._prepare_generation_config(None, **generation_kwargs)\n",
    "generation_config"
   ]
  },
  {
   "cell_type": "code",
   "execution_count": 45,
   "id": "cfd914ec-9bed-43c4-91b3-70d1e76bb861",
   "metadata": {},
   "outputs": [
    {
     "data": {
      "text/plain": [
       "<Signature (input_ids: torch.LongTensor = None, attention_mask: Optional[torch.Tensor] = None, position_ids: Optional[torch.LongTensor] = None, past_key_values: Union[transformers.cache_utils.Cache, List[torch.FloatTensor], NoneType] = None, inputs_embeds: Optional[torch.FloatTensor] = None, labels: Optional[torch.LongTensor] = None, use_cache: Optional[bool] = None, output_attentions: Optional[bool] = None, output_hidden_states: Optional[bool] = None, return_dict: Optional[bool] = None, cache_position: Optional[torch.LongTensor] = None, num_logits_to_keep: int = 0, **kwargs: *<class 'transformers.models.llama.modeling_llama.KwargsForCausalLM'>) -> Union[Tuple, transformers.modeling_outputs.CausalLMOutputWithPast]>"
      ]
     },
     "execution_count": 45,
     "metadata": {},
     "output_type": "execute_result"
    }
   ],
   "source": [
    "inspect.signature(model.forward)"
   ]
  },
  {
   "cell_type": "code",
   "execution_count": null,
   "id": "babb1b4e-e4e7-41f7-ab0e-92023337ca61",
   "metadata": {},
   "outputs": [],
   "source": [
    "print(model.forward.__doc__)"
   ]
  },
  {
   "cell_type": "code",
   "execution_count": 12,
   "id": "d237db80-47bc-4194-abd4-07bbb6747695",
   "metadata": {},
   "outputs": [],
   "source": [
    "out = model.forward(**inputs)"
   ]
  },
  {
   "cell_type": "code",
   "execution_count": 65,
   "id": "8d51f962-6818-45c0-b624-f42b35362576",
   "metadata": {},
   "outputs": [
    {
     "data": {
      "text/plain": [
       "['__annotations__',\n",
       " '__class__',\n",
       " '__class_getitem__',\n",
       " '__contains__',\n",
       " '__dataclass_fields__',\n",
       " '__dataclass_params__',\n",
       " '__delattr__',\n",
       " '__delitem__',\n",
       " '__dict__',\n",
       " '__dir__',\n",
       " '__doc__',\n",
       " '__eq__',\n",
       " '__format__',\n",
       " '__ge__',\n",
       " '__getattribute__',\n",
       " '__getitem__',\n",
       " '__getstate__',\n",
       " '__gt__',\n",
       " '__hash__',\n",
       " '__init__',\n",
       " '__init_subclass__',\n",
       " '__ior__',\n",
       " '__iter__',\n",
       " '__le__',\n",
       " '__len__',\n",
       " '__lt__',\n",
       " '__match_args__',\n",
       " '__module__',\n",
       " '__ne__',\n",
       " '__new__',\n",
       " '__or__',\n",
       " '__post_init__',\n",
       " '__reduce__',\n",
       " '__reduce_ex__',\n",
       " '__repr__',\n",
       " '__reversed__',\n",
       " '__ror__',\n",
       " '__setattr__',\n",
       " '__setitem__',\n",
       " '__sizeof__',\n",
       " '__str__',\n",
       " '__subclasshook__',\n",
       " 'attentions',\n",
       " 'clear',\n",
       " 'copy',\n",
       " 'fromkeys',\n",
       " 'get',\n",
       " 'hidden_states',\n",
       " 'items',\n",
       " 'keys',\n",
       " 'logits',\n",
       " 'loss',\n",
       " 'move_to_end',\n",
       " 'past_key_values',\n",
       " 'pop',\n",
       " 'popitem',\n",
       " 'setdefault',\n",
       " 'to_tuple',\n",
       " 'update',\n",
       " 'values']"
      ]
     },
     "execution_count": 65,
     "metadata": {},
     "output_type": "execute_result"
    }
   ],
   "source": [
    "dir(out)"
   ]
  },
  {
   "cell_type": "code",
   "execution_count": 13,
   "id": "cefbb5b0-a44f-44e4-98fc-5340e5bae91d",
   "metadata": {},
   "outputs": [
    {
     "data": {
      "text/plain": [
       "torch.Size([1, 18, 128256])"
      ]
     },
     "execution_count": 13,
     "metadata": {},
     "output_type": "execute_result"
    }
   ],
   "source": [
    "logits = out.logits\n",
    "logits.shape"
   ]
  },
  {
   "cell_type": "code",
   "execution_count": 14,
   "id": "873aebb5-ba57-47c8-b43d-36dc16231d5c",
   "metadata": {},
   "outputs": [
    {
     "data": {
      "text/plain": [
       "128256"
      ]
     },
     "execution_count": 14,
     "metadata": {},
     "output_type": "execute_result"
    }
   ],
   "source": [
    "model.config.vocab_size"
   ]
  },
  {
   "cell_type": "code",
   "execution_count": 15,
   "id": "d1c0deab-d906-4c63-a0e8-fb326bcfe18b",
   "metadata": {},
   "outputs": [
    {
     "data": {
      "text/plain": [
       "torch.Size([128256])"
      ]
     },
     "execution_count": 15,
     "metadata": {},
     "output_type": "execute_result"
    }
   ],
   "source": [
    "preds = logits[0,-1, :]\n",
    "preds.shape"
   ]
  },
  {
   "cell_type": "code",
   "execution_count": 18,
   "id": "a74eec09-4472-47dc-b087-0fb21c8cac44",
   "metadata": {},
   "outputs": [],
   "source": [
    "max_pred = preds.argmax(keepdims=True)"
   ]
  },
  {
   "cell_type": "code",
   "execution_count": 19,
   "id": "b3837f42-d775-44ae-92be-19a699957dd4",
   "metadata": {},
   "outputs": [
    {
     "data": {
      "text/plain": [
       "tensor([13], device='mps:0')"
      ]
     },
     "execution_count": 19,
     "metadata": {},
     "output_type": "execute_result"
    }
   ],
   "source": [
    "max_pred"
   ]
  },
  {
   "cell_type": "code",
   "execution_count": 21,
   "id": "98e48198-8465-41f8-a806-580574337107",
   "metadata": {},
   "outputs": [
    {
     "data": {
      "text/plain": [
       "Embedding(128256, 3072)"
      ]
     },
     "execution_count": 21,
     "metadata": {},
     "output_type": "execute_result"
    }
   ],
   "source": [
    "model.model.embed_tokens"
   ]
  },
  {
   "cell_type": "code",
   "execution_count": 24,
   "id": "5cb0700b-01ed-401a-ad68-ec5734037a0e",
   "metadata": {},
   "outputs": [
    {
     "data": {
      "text/plain": [
       "torch.Size([1, 18])"
      ]
     },
     "execution_count": 24,
     "metadata": {},
     "output_type": "execute_result"
    }
   ],
   "source": [
    "toks = inputs[\"input_ids\"]\n",
    "toks.shape"
   ]
  },
  {
   "cell_type": "code",
   "execution_count": 25,
   "id": "6c4c827b-1657-4e52-ace3-750412af6ab5",
   "metadata": {},
   "outputs": [
    {
     "name": "stdout",
     "output_type": "stream",
     "text": [
      "torch.Size([1, 18, 3072])\n"
     ]
    },
    {
     "data": {
      "text/plain": [
       "tensor([[[-0.0011, -0.0007, -0.0046,  ..., -0.0015, -0.0021,  0.0018],\n",
       "         [ 0.0065, -0.0332, -0.0101,  ..., -0.0303,  0.0197, -0.0017],\n",
       "         [-0.0264, -0.0152, -0.0183,  ...,  0.0131,  0.0369, -0.0364],\n",
       "         ...,\n",
       "         [ 0.0013,  0.0025, -0.0155,  ...,  0.0320,  0.0058, -0.0131],\n",
       "         [ 0.0454, -0.0099,  0.0054,  ..., -0.0061, -0.0052, -0.0125],\n",
       "         [-0.0330, -0.0001,  0.0117,  ..., -0.0094,  0.0117, -0.0187]]],\n",
       "       device='mps:0', grad_fn=<EmbeddingBackward0>)"
      ]
     },
     "execution_count": 25,
     "metadata": {},
     "output_type": "execute_result"
    }
   ],
   "source": [
    "h = model.model.embed_tokens(toks)\n",
    "print(h.shape)\n",
    "h"
   ]
  },
  {
   "cell_type": "code",
   "execution_count": 27,
   "id": "5ea81b45-9809-46ab-8e1a-4114a815afa3",
   "metadata": {},
   "outputs": [
    {
     "data": {
      "text/plain": [
       "'sdpa'"
      ]
     },
     "execution_count": 27,
     "metadata": {},
     "output_type": "execute_result"
    }
   ],
   "source": [
    "model.config._attn_implementation"
   ]
  },
  {
   "cell_type": "code",
   "execution_count": null,
   "id": "c1965d60-397b-4606-8676-894e1d55ec4f",
   "metadata": {},
   "outputs": [],
   "source": [
    " "
   ]
  }
 ],
 "metadata": {
  "kernelspec": {
   "display_name": "Python 3 (ipykernel)",
   "language": "python",
   "name": "python3"
  },
  "language_info": {
   "codemirror_mode": {
    "name": "ipython",
    "version": 3
   },
   "file_extension": ".py",
   "mimetype": "text/x-python",
   "name": "python",
   "nbconvert_exporter": "python",
   "pygments_lexer": "ipython3",
   "version": "3.11.10"
  }
 },
 "nbformat": 4,
 "nbformat_minor": 5
}
